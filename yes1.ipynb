{
 "cells": [
  {
   "cell_type": "code",
   "execution_count": 7,
   "metadata": {},
   "outputs": [],
   "source": [
    "from selenium import webdriver\n",
    "\n",
    "def open_chrome_with_profile(profile_path):\n",
    "    # Set the path to the Chrome profile directory\n",
    "    chrome_options = webdriver.ChromeOptions()\n",
    "    chrome_options.add_argument(\"user-data-dir=\" + profile_path)\n",
    "\n",
    "    # Initialize the Chrome browser with specified options\n",
    "    driver = webdriver.Chrome(options=chrome_options)\n",
    "\n",
    "    # Open a website to demonstrate the browser opening\n",
    "    driver.get('https://www.google.com')\n",
    "\n",
    "    # Wait for a few seconds (you can remove this if not needed)\n",
    "    driver.implicitly_wait(10)\n",
    "\n",
    "    # Close the browser\n",
    "    driver.quit()\n",
    "\n",
    "if __name__ == '__main__':\n",
    "    # Path to the Chrome profile directory\n",
    "    profile_path = r'C:\\Users\\Eliana\\AppData\\Local\\Google\\Chrome\\User Data\\Profile 1'\n",
    "\n",
    "    # Call the function to open Chrome with the specified profile\n",
    "    open_chrome_with_profile(profile_path)\n",
    "\n",
    "\n"
   ]
  }
 ],
 "metadata": {
  "kernelspec": {
   "display_name": "Python 3 (ipykernel)",
   "language": "python",
   "name": "python3"
  },
  "language_info": {
   "codemirror_mode": {
    "name": "ipython",
    "version": 3
   },
   "file_extension": ".py",
   "mimetype": "text/x-python",
   "name": "python",
   "nbconvert_exporter": "python",
   "pygments_lexer": "ipython3",
   "version": "3.11.5"
  }
 },
 "nbformat": 4,
 "nbformat_minor": 2
}
