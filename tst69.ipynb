{
 "cells": [
  {
   "cell_type": "code",
   "execution_count": 2,
   "metadata": {},
   "outputs": [
    {
     "name": "stdout",
     "output_type": "stream",
     "text": [
      "A posição do cursor é: x=943, y=25\n"
     ]
    }
   ],
   "source": [
    "import pyautogui\n",
    "import pyperclip\n",
    "import time\n",
    "pyautogui.PAUSE = 1\n",
    "\n",
    "time.sleep(3)\n",
    "x, y = pyautogui.position()\n",
    "\n",
    "# Exibe as coordenadas x e y\n",
    "print(f'A posição do cursor é: x={x}, y={y}')"
   ]
  },
  {
   "cell_type": "code",
   "execution_count": 76,
   "metadata": {},
   "outputs": [],
   "source": [
    "import pyautogui\n",
    "import pyperclip\n",
    "time.sleep(3)\n",
    "\n",
    "pyautogui.doubleClick(413, 27)\n",
    "time.sleep(3)\n",
    "pyautogui.hotkey(\"Win\", \"up\")\n",
    "\n",
    "# Simulate typing the URL\n",
    "pyperclip.copy(\"https://www.youtube.com/watch?v=5LCqxcMTpdk\")\n",
    "time.sleep(1)\n",
    "pyautogui.hotkey(\"ctrl\", \"v\")\n",
    "pyautogui.hotkey(\"Enter\")\n",
    "\n",
    "time.sleep(10)\n",
    "pyautogui.scroll(-10)\n",
    "\n",
    "time.sleep(3)\n",
    "pyautogui.click(867, 972)\n",
    "time.sleep(1)\n",
    "pyautogui.click(344, 967)\n",
    "pyautogui.hotkey(\"Win\", \"d\")\n",
    "time.sleep(6)\n",
    "pyautogui.doubleClick(500, 36)\n",
    "time.sleep(3)\n",
    "pyautogui.hotkey(\"Win\", \"up\")\n",
    "\n",
    "# Simulate typing the URL\n",
    "pyperclip.copy(\"https://www.youtube.com/watch?v=5LCqxcMTpdk\")\n",
    "time.sleep(1)\n",
    "pyautogui.hotkey(\"ctrl\", \"v\")\n",
    "pyautogui.hotkey(\"Enter\")\n",
    "\n",
    "time.sleep(10)\n",
    "pyautogui.scroll(-10)\n",
    "\n",
    "time.sleep(3)\n",
    "pyautogui.click(867, 972)\n",
    "time.sleep(1)\n",
    "pyautogui.click(344, 967)\n",
    "pyautogui.hotkey(\"Win\", \"d\")\n",
    "time.sleep(6)"
   ]
  },
  {
   "cell_type": "code",
   "execution_count": 77,
   "metadata": {},
   "outputs": [
    {
     "ename": "SyntaxError",
     "evalue": "invalid syntax. Maybe you meant '==' or ':=' instead of '='? (434918201.py, line 1)",
     "output_type": "error",
     "traceback": [
      "\u001b[1;36m  Cell \u001b[1;32mIn[77], line 1\u001b[1;36m\u001b[0m\n\u001b[1;33m    x=1055, y=342\u001b[0m\n\u001b[1;37m    ^\u001b[0m\n\u001b[1;31mSyntaxError\u001b[0m\u001b[1;31m:\u001b[0m invalid syntax. Maybe you meant '==' or ':=' instead of '='?\n"
     ]
    }
   ],
   "source": [
    "x=1055, y=342\n",
    "x=196, y=563\n",
    "x=1371, y=388\n",
    "\n"
   ]
  }
 ],
 "metadata": {
  "kernelspec": {
   "display_name": "Python 3 (ipykernel)",
   "language": "python",
   "name": "python3"
  },
  "language_info": {
   "codemirror_mode": {
    "name": "ipython",
    "version": 3
   },
   "file_extension": ".py",
   "mimetype": "text/x-python",
   "name": "python",
   "nbconvert_exporter": "python",
   "pygments_lexer": "ipython3",
   "version": "3.11.5"
  }
 },
 "nbformat": 4,
 "nbformat_minor": 2
}
