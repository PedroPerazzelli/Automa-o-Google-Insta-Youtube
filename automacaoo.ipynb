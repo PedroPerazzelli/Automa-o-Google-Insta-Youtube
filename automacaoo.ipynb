{
 "cells": [
  {
   "cell_type": "code",
   "execution_count": 1,
   "metadata": {},
   "outputs": [
    {
     "name": "stderr",
     "output_type": "stream",
     "text": [
      "Error sending stats to Plausible: error sending request for url (https://plausible.io/api/event): operation timed out\n"
     ]
    }
   ],
   "source": [
    "from selenium import webdriver\n",
    "from selenium.webdriver.common.by import By\n",
    "from selenium.webdriver.support.ui import WebDriverWait\n",
    "from selenium.webdriver.support import expected_conditions as EC\n",
    "\n",
    "def clicar_botoes_por_cor(cor_desejada):\n",
    "    # Configurar o webdriver (no exemplo, estou usando o Chrome)\n",
    "    driver = webdriver.Chrome()\n",
    "    \n",
    "    # Substitua a URL abaixo pela URL da página que você está visitando\n",
    "    url = \"https://www.instagram.com/evolving.ai/followers/\"\n",
    "    driver.get(url)\n",
    "    \n",
    "    try:\n",
    "        # Esperar até que todos os botões apareçam na página\n",
    "        botoes = WebDriverWait(driver, 10).until(\n",
    "            EC.presence_of_all_elements_located((By.CSS_SELECTOR, 'button'))  # Substitua pelo seletor apropriado\n",
    "        )\n",
    "        \n",
    "        # Iterar sobre todos os botões\n",
    "        for botao in botoes:\n",
    "            # Obter a cor do botão\n",
    "            cor_do_botao = botao.value_of_css_property(\"background-color\")\n",
    "            \n",
    "            # Comparar a cor do botão com a cor desejada (você pode precisar ajustar a lógica de comparação)\n",
    "            if cor_desejada.lower() in cor_do_botao.lower():\n",
    "                print(f\"Clicando no botão com a cor desejada: {cor_do_botao}\")\n",
    "                \n",
    "                # Clicar no botão\n",
    "                botao.click()\n",
    "                \n",
    "                # Aqui, você pode realizar ações adicionais após clicar no botão\n",
    "    except Exception as e:\n",
    "        print(f\"Erro: {e}\")\n",
    "    finally:\n",
    "        # Fechar o navegador\n",
    "        driver.quit()\n",
    "\n",
    "# Substitua 'cor_desejada' pela cor que você está procurando (em formato hexadecimal, por exemplo, '#RRGGBB')\n",
    "cor_desejada = '#0095F6'\n",
    "clicar_botoes_por_cor(cor_desejada)\n",
    "\n"
   ]
  },
  {
   "cell_type": "code",
   "execution_count": 4,
   "metadata": {},
   "outputs": [
    {
     "ename": "SyntaxError",
     "evalue": "invalid syntax (3211332816.py, line 8)",
     "output_type": "error",
     "traceback": [
      "\u001b[1;36m  Cell \u001b[1;32mIn[4], line 8\u001b[1;36m\u001b[0m\n\u001b[1;33m    driver = webdriver.Chrome(C:\\Users\\Eliana\\AppData\\Local\\Google\\Chrome\\User Data\\Profile 14)\u001b[0m\n\u001b[1;37m                               ^\u001b[0m\n\u001b[1;31mSyntaxError\u001b[0m\u001b[1;31m:\u001b[0m invalid syntax\n"
     ]
    }
   ],
   "source": [
    "from selenium import webdriver\n",
    "from selenium.webdriver.common.by import By\n",
    "from selenium.webdriver.support.ui import WebDriverWait\n",
    "from selenium.webdriver.support import expected_conditions as EC\n",
    "\n",
    "def clicar_botoes_por_cor(cor_desejada, num_clicks=100):\n",
    "    # Configurar o webdriver (no exemplo, estou usando o Chrome)\n",
    "    driver = webdriver.Chrome()\n",
    "    \n",
    "    # Substitua a URL abaixo pela URL da página que você está visitando\n",
    "    url = \"https://www.instagram.com/evolving.ai/followers/\"\n",
    "    driver.get(url)\n",
    "    \n",
    "    try:\n",
    "        # Esperar até que todos os botões apareçam na página\n",
    "        botoes = WebDriverWait(driver, 10).until(\n",
    "            EC.presence_of_all_elements_located((By.CSS_SELECTOR, 'button'))  # Substitua pelo seletor apropriado\n",
    "        )\n",
    "        \n",
    "        # Iterar sobre todos os botões\n",
    "        for _ in range(num_clicks):\n",
    "            for botao in botoes:\n",
    "                # Obter a cor do botão\n",
    "                cor_do_botao = botao.value_of_css_property(\"background-color\")\n",
    "                \n",
    "                # Comparar a cor do botão com a cor desejada (você pode precisar ajustar a lógica de comparação)\n",
    "                if cor_desejada.lower() in cor_do_botao.lower():\n",
    "                    print(f\"Clicando no botão com a cor desejada: {cor_do_botao}\")\n",
    "                    \n",
    "                    # Clicar no botão\n",
    "                    botao.click()\n",
    "                    \n",
    "                    # Aqui, você pode realizar ações adicionais após clicar no botão\n",
    "    except Exception as e:\n",
    "        print(f\"Erro: {e}\")\n",
    "    finally:\n",
    "        # Fechar o navegador\n",
    "        driver.quit()\n",
    "\n",
    "# Substitua 'cor_desejada' pela cor que você está procurando (em formato hexadecimal, por exemplo, '#RRGGBB')\n",
    "cor_desejada = '#0095F6'\n",
    "clicar_botoes_por_cor(cor_desejada, num_clicks=100)\n"
   ]
  },
  {
   "cell_type": "code",
   "execution_count": 6,
   "metadata": {},
   "outputs": [
    {
     "ename": "WebDriverException",
     "evalue": "Message: unknown error: cannot create default profile directory\nStacktrace:\n\tGetHandleVerifier [0x00007FF7E8E27012+3522402]\n\t(No symbol) [0x00007FF7E8A48352]\n\t(No symbol) [0x00007FF7E88F5ABB]\n\t(No symbol) [0x00007FF7E892A947]\n\t(No symbol) [0x00007FF7E8926D78]\n\t(No symbol) [0x00007FF7E8922188]\n\t(No symbol) [0x00007FF7E8969469]\n\t(No symbol) [0x00007FF7E895EE03]\n\t(No symbol) [0x00007FF7E892F4D4]\n\t(No symbol) [0x00007FF7E89305F1]\n\tGetHandleVerifier [0x00007FF7E8E59B9D+3730157]\n\tGetHandleVerifier [0x00007FF7E8EAF02D+4079485]\n\tGetHandleVerifier [0x00007FF7E8EA75D3+4048163]\n\tGetHandleVerifier [0x00007FF7E8B7A649+718233]\n\t(No symbol) [0x00007FF7E8A54A3F]\n\t(No symbol) [0x00007FF7E8A4FA94]\n\t(No symbol) [0x00007FF7E8A4FBC2]\n\t(No symbol) [0x00007FF7E8A3F2E4]\n\tBaseThreadInitThunk [0x00007FF94E217344+20]\n\tRtlUserThreadStart [0x00007FF94E8026B1+33]\n",
     "output_type": "error",
     "traceback": [
      "\u001b[1;31m---------------------------------------------------------------------------\u001b[0m",
      "\u001b[1;31mWebDriverException\u001b[0m                        Traceback (most recent call last)",
      "Cell \u001b[1;32mIn[6], line 50\u001b[0m\n\u001b[0;32m     48\u001b[0m cor_desejada \u001b[38;5;241m=\u001b[39m \u001b[38;5;124m'\u001b[39m\u001b[38;5;124m#0095F6\u001b[39m\u001b[38;5;124m'\u001b[39m\n\u001b[0;32m     49\u001b[0m perfil_desejado \u001b[38;5;241m=\u001b[39m \u001b[38;5;124m'\u001b[39m\u001b[38;5;124mnomedoperfil\u001b[39m\u001b[38;5;124m'\u001b[39m\n\u001b[1;32m---> 50\u001b[0m clicar_botoes_por_cor_em_perfil(cor_desejada, perfil_desejado, num_clicks\u001b[38;5;241m=\u001b[39m\u001b[38;5;241m100\u001b[39m)\n",
      "Cell \u001b[1;32mIn[6], line 15\u001b[0m, in \u001b[0;36mclicar_botoes_por_cor_em_perfil\u001b[1;34m(cor_desejada, perfil, num_clicks)\u001b[0m\n\u001b[0;32m     12\u001b[0m opcoes\u001b[38;5;241m.\u001b[39madd_argument(\u001b[38;5;124mf\u001b[39m\u001b[38;5;124m\"\u001b[39m\u001b[38;5;124m--user-data-dir=\u001b[39m\u001b[38;5;132;01m{\u001b[39;00mcaminho_perfil\u001b[38;5;132;01m}\u001b[39;00m\u001b[38;5;124m\"\u001b[39m)\n\u001b[0;32m     14\u001b[0m \u001b[38;5;66;03m# Configurar o webdriver com as opções\u001b[39;00m\n\u001b[1;32m---> 15\u001b[0m driver \u001b[38;5;241m=\u001b[39m webdriver\u001b[38;5;241m.\u001b[39mChrome(options\u001b[38;5;241m=\u001b[39mopcoes)\n\u001b[0;32m     17\u001b[0m \u001b[38;5;66;03m# Construir a URL com o perfil desejado\u001b[39;00m\n\u001b[0;32m     18\u001b[0m url \u001b[38;5;241m=\u001b[39m \u001b[38;5;124mf\u001b[39m\u001b[38;5;124m\"\u001b[39m\u001b[38;5;124mhttps://www.instagram.com/\u001b[39m\u001b[38;5;132;01m{\u001b[39;00mperfil\u001b[38;5;132;01m}\u001b[39;00m\u001b[38;5;124m/followers/\u001b[39m\u001b[38;5;124m\"\u001b[39m\n",
      "File \u001b[1;32m~\\anaconda3\\Lib\\site-packages\\selenium\\webdriver\\chrome\\webdriver.py:45\u001b[0m, in \u001b[0;36mWebDriver.__init__\u001b[1;34m(self, options, service, keep_alive)\u001b[0m\n\u001b[0;32m     42\u001b[0m service \u001b[38;5;241m=\u001b[39m service \u001b[38;5;28;01mif\u001b[39;00m service \u001b[38;5;28;01melse\u001b[39;00m Service()\n\u001b[0;32m     43\u001b[0m options \u001b[38;5;241m=\u001b[39m options \u001b[38;5;28;01mif\u001b[39;00m options \u001b[38;5;28;01melse\u001b[39;00m Options()\n\u001b[1;32m---> 45\u001b[0m \u001b[38;5;28msuper\u001b[39m()\u001b[38;5;241m.\u001b[39m\u001b[38;5;21m__init__\u001b[39m(\n\u001b[0;32m     46\u001b[0m     browser_name\u001b[38;5;241m=\u001b[39mDesiredCapabilities\u001b[38;5;241m.\u001b[39mCHROME[\u001b[38;5;124m\"\u001b[39m\u001b[38;5;124mbrowserName\u001b[39m\u001b[38;5;124m\"\u001b[39m],\n\u001b[0;32m     47\u001b[0m     vendor_prefix\u001b[38;5;241m=\u001b[39m\u001b[38;5;124m\"\u001b[39m\u001b[38;5;124mgoog\u001b[39m\u001b[38;5;124m\"\u001b[39m,\n\u001b[0;32m     48\u001b[0m     options\u001b[38;5;241m=\u001b[39moptions,\n\u001b[0;32m     49\u001b[0m     service\u001b[38;5;241m=\u001b[39mservice,\n\u001b[0;32m     50\u001b[0m     keep_alive\u001b[38;5;241m=\u001b[39mkeep_alive,\n\u001b[0;32m     51\u001b[0m )\n",
      "File \u001b[1;32m~\\anaconda3\\Lib\\site-packages\\selenium\\webdriver\\chromium\\webdriver.py:61\u001b[0m, in \u001b[0;36mChromiumDriver.__init__\u001b[1;34m(self, browser_name, vendor_prefix, options, service, keep_alive)\u001b[0m\n\u001b[0;32m     52\u001b[0m executor \u001b[38;5;241m=\u001b[39m ChromiumRemoteConnection(\n\u001b[0;32m     53\u001b[0m     remote_server_addr\u001b[38;5;241m=\u001b[39m\u001b[38;5;28mself\u001b[39m\u001b[38;5;241m.\u001b[39mservice\u001b[38;5;241m.\u001b[39mservice_url,\n\u001b[0;32m     54\u001b[0m     browser_name\u001b[38;5;241m=\u001b[39mbrowser_name,\n\u001b[1;32m   (...)\u001b[0m\n\u001b[0;32m     57\u001b[0m     ignore_proxy\u001b[38;5;241m=\u001b[39moptions\u001b[38;5;241m.\u001b[39m_ignore_local_proxy,\n\u001b[0;32m     58\u001b[0m )\n\u001b[0;32m     60\u001b[0m \u001b[38;5;28;01mtry\u001b[39;00m:\n\u001b[1;32m---> 61\u001b[0m     \u001b[38;5;28msuper\u001b[39m()\u001b[38;5;241m.\u001b[39m\u001b[38;5;21m__init__\u001b[39m(command_executor\u001b[38;5;241m=\u001b[39mexecutor, options\u001b[38;5;241m=\u001b[39moptions)\n\u001b[0;32m     62\u001b[0m \u001b[38;5;28;01mexcept\u001b[39;00m \u001b[38;5;167;01mException\u001b[39;00m:\n\u001b[0;32m     63\u001b[0m     \u001b[38;5;28mself\u001b[39m\u001b[38;5;241m.\u001b[39mquit()\n",
      "File \u001b[1;32m~\\anaconda3\\Lib\\site-packages\\selenium\\webdriver\\remote\\webdriver.py:208\u001b[0m, in \u001b[0;36mWebDriver.__init__\u001b[1;34m(self, command_executor, keep_alive, file_detector, options)\u001b[0m\n\u001b[0;32m    206\u001b[0m \u001b[38;5;28mself\u001b[39m\u001b[38;5;241m.\u001b[39m_authenticator_id \u001b[38;5;241m=\u001b[39m \u001b[38;5;28;01mNone\u001b[39;00m\n\u001b[0;32m    207\u001b[0m \u001b[38;5;28mself\u001b[39m\u001b[38;5;241m.\u001b[39mstart_client()\n\u001b[1;32m--> 208\u001b[0m \u001b[38;5;28mself\u001b[39m\u001b[38;5;241m.\u001b[39mstart_session(capabilities)\n",
      "File \u001b[1;32m~\\anaconda3\\Lib\\site-packages\\selenium\\webdriver\\remote\\webdriver.py:292\u001b[0m, in \u001b[0;36mWebDriver.start_session\u001b[1;34m(self, capabilities)\u001b[0m\n\u001b[0;32m    285\u001b[0m \u001b[38;5;250m\u001b[39m\u001b[38;5;124;03m\"\"\"Creates a new session with the desired capabilities.\u001b[39;00m\n\u001b[0;32m    286\u001b[0m \n\u001b[0;32m    287\u001b[0m \u001b[38;5;124;03m:Args:\u001b[39;00m\n\u001b[0;32m    288\u001b[0m \u001b[38;5;124;03m - capabilities - a capabilities dict to start the session with.\u001b[39;00m\n\u001b[0;32m    289\u001b[0m \u001b[38;5;124;03m\"\"\"\u001b[39;00m\n\u001b[0;32m    291\u001b[0m caps \u001b[38;5;241m=\u001b[39m _create_caps(capabilities)\n\u001b[1;32m--> 292\u001b[0m response \u001b[38;5;241m=\u001b[39m \u001b[38;5;28mself\u001b[39m\u001b[38;5;241m.\u001b[39mexecute(Command\u001b[38;5;241m.\u001b[39mNEW_SESSION, caps)[\u001b[38;5;124m\"\u001b[39m\u001b[38;5;124mvalue\u001b[39m\u001b[38;5;124m\"\u001b[39m]\n\u001b[0;32m    293\u001b[0m \u001b[38;5;28mself\u001b[39m\u001b[38;5;241m.\u001b[39msession_id \u001b[38;5;241m=\u001b[39m response\u001b[38;5;241m.\u001b[39mget(\u001b[38;5;124m\"\u001b[39m\u001b[38;5;124msessionId\u001b[39m\u001b[38;5;124m\"\u001b[39m)\n\u001b[0;32m    294\u001b[0m \u001b[38;5;28mself\u001b[39m\u001b[38;5;241m.\u001b[39mcaps \u001b[38;5;241m=\u001b[39m response\u001b[38;5;241m.\u001b[39mget(\u001b[38;5;124m\"\u001b[39m\u001b[38;5;124mcapabilities\u001b[39m\u001b[38;5;124m\"\u001b[39m)\n",
      "File \u001b[1;32m~\\anaconda3\\Lib\\site-packages\\selenium\\webdriver\\remote\\webdriver.py:347\u001b[0m, in \u001b[0;36mWebDriver.execute\u001b[1;34m(self, driver_command, params)\u001b[0m\n\u001b[0;32m    345\u001b[0m response \u001b[38;5;241m=\u001b[39m \u001b[38;5;28mself\u001b[39m\u001b[38;5;241m.\u001b[39mcommand_executor\u001b[38;5;241m.\u001b[39mexecute(driver_command, params)\n\u001b[0;32m    346\u001b[0m \u001b[38;5;28;01mif\u001b[39;00m response:\n\u001b[1;32m--> 347\u001b[0m     \u001b[38;5;28mself\u001b[39m\u001b[38;5;241m.\u001b[39merror_handler\u001b[38;5;241m.\u001b[39mcheck_response(response)\n\u001b[0;32m    348\u001b[0m     response[\u001b[38;5;124m\"\u001b[39m\u001b[38;5;124mvalue\u001b[39m\u001b[38;5;124m\"\u001b[39m] \u001b[38;5;241m=\u001b[39m \u001b[38;5;28mself\u001b[39m\u001b[38;5;241m.\u001b[39m_unwrap_value(response\u001b[38;5;241m.\u001b[39mget(\u001b[38;5;124m\"\u001b[39m\u001b[38;5;124mvalue\u001b[39m\u001b[38;5;124m\"\u001b[39m, \u001b[38;5;28;01mNone\u001b[39;00m))\n\u001b[0;32m    349\u001b[0m     \u001b[38;5;28;01mreturn\u001b[39;00m response\n",
      "File \u001b[1;32m~\\anaconda3\\Lib\\site-packages\\selenium\\webdriver\\remote\\errorhandler.py:229\u001b[0m, in \u001b[0;36mErrorHandler.check_response\u001b[1;34m(self, response)\u001b[0m\n\u001b[0;32m    227\u001b[0m         alert_text \u001b[38;5;241m=\u001b[39m value[\u001b[38;5;124m\"\u001b[39m\u001b[38;5;124malert\u001b[39m\u001b[38;5;124m\"\u001b[39m]\u001b[38;5;241m.\u001b[39mget(\u001b[38;5;124m\"\u001b[39m\u001b[38;5;124mtext\u001b[39m\u001b[38;5;124m\"\u001b[39m)\n\u001b[0;32m    228\u001b[0m     \u001b[38;5;28;01mraise\u001b[39;00m exception_class(message, screen, stacktrace, alert_text)  \u001b[38;5;66;03m# type: ignore[call-arg]  # mypy is not smart enough here\u001b[39;00m\n\u001b[1;32m--> 229\u001b[0m \u001b[38;5;28;01mraise\u001b[39;00m exception_class(message, screen, stacktrace)\n",
      "\u001b[1;31mWebDriverException\u001b[0m: Message: unknown error: cannot create default profile directory\nStacktrace:\n\tGetHandleVerifier [0x00007FF7E8E27012+3522402]\n\t(No symbol) [0x00007FF7E8A48352]\n\t(No symbol) [0x00007FF7E88F5ABB]\n\t(No symbol) [0x00007FF7E892A947]\n\t(No symbol) [0x00007FF7E8926D78]\n\t(No symbol) [0x00007FF7E8922188]\n\t(No symbol) [0x00007FF7E8969469]\n\t(No symbol) [0x00007FF7E895EE03]\n\t(No symbol) [0x00007FF7E892F4D4]\n\t(No symbol) [0x00007FF7E89305F1]\n\tGetHandleVerifier [0x00007FF7E8E59B9D+3730157]\n\tGetHandleVerifier [0x00007FF7E8EAF02D+4079485]\n\tGetHandleVerifier [0x00007FF7E8EA75D3+4048163]\n\tGetHandleVerifier [0x00007FF7E8B7A649+718233]\n\t(No symbol) [0x00007FF7E8A54A3F]\n\t(No symbol) [0x00007FF7E8A4FA94]\n\t(No symbol) [0x00007FF7E8A4FBC2]\n\t(No symbol) [0x00007FF7E8A3F2E4]\n\tBaseThreadInitThunk [0x00007FF94E217344+20]\n\tRtlUserThreadStart [0x00007FF94E8026B1+33]\n"
     ]
    }
   ],
   "source": [
    "import webbrowser\n",
    "\n",
    "def abrir_perfil(link_perfil):\n",
    "    # Abrir o perfil no navegador padrão\n",
    "    webbrowser.open(link_perfil)\n",
    "\n",
    "# Exemplo de uso\n",
    "perfil_especifico = 'https://www.exemplo.com/perfil'\n",
    "abrir_perfil(perfil_especifico)\n",
    "\n"
   ]
  },
  {
   "cell_type": "code",
   "execution_count": null,
   "metadata": {},
   "outputs": [],
   "source": [
    "chrome.exe --profile-directory=\"\"\n"
   ]
  }
 ],
 "metadata": {
  "kernelspec": {
   "display_name": "Python 3 (ipykernel)",
   "language": "python",
   "name": "python3"
  },
  "language_info": {
   "codemirror_mode": {
    "name": "ipython",
    "version": 3
   },
   "file_extension": ".py",
   "mimetype": "text/x-python",
   "name": "python",
   "nbconvert_exporter": "python",
   "pygments_lexer": "ipython3",
   "version": "3.11.5"
  }
 },
 "nbformat": 4,
 "nbformat_minor": 2
}
